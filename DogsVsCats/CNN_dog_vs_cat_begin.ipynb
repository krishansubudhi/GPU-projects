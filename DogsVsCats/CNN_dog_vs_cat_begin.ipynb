{
 "cells": [
  {
   "cell_type": "code",
   "execution_count": 8,
   "metadata": {},
   "outputs": [],
   "source": [
    "import os,shutil\n",
    "original_dataset_dir='C:\\\\Users\\\\krishan\\\\Downloads\\\\all\\\\train\\\\train'\n",
    "base_dir = 'C:\\\\Users\\\\krishan\\\\GPU-projects\\\\DogsVsCats'"
   ]
  },
  {
   "cell_type": "code",
   "execution_count": 9,
   "metadata": {},
   "outputs": [],
   "source": [
    "train_dir = os.path.join(base_dir, 'train')\n",
    "val_dir = os.path.join(base_dir, 'validation')\n",
    "test_dir = os.path.join(base_dir, 'test')\n",
    "os.mkdir(train_dir)\n",
    "os.mkdir(val_dir)\n",
    "os.mkdir(test_dir)"
   ]
  },
  {
   "cell_type": "code",
   "execution_count": 10,
   "metadata": {},
   "outputs": [],
   "source": [
    "train = ''\n",
    "val = ''\n",
    "test = ''"
   ]
  },
  {
   "cell_type": "code",
   "execution_count": 11,
   "metadata": {},
   "outputs": [],
   "source": [
    "for cls in ['dog','cat']:\n",
    "    train = os.path.join(train_dir,cls)\n",
    "    os.makedirs(train,exist_ok=True)\n",
    "    val = os.path.join(val_dir,cls)\n",
    "    os.makedirs(val,exist_ok=True)\n",
    "    test = os.path.join(test_dir,cls)\n",
    "    os.makedirs(test,exist_ok=True)\n",
    "    for fname in ['{}.{}.jpg'.format(cls,i)  for i in range(1000)]:\n",
    "        src = os.path.join(original_dataset_dir,fname)\n",
    "        dest = os.path.join(train,fname)\n",
    "        shutil.copy(src,dest)\n",
    "    for fname in ['{}.{}.jpg'.format(cls,i)  for i in range(1000,1500)]:\n",
    "        src = os.path.join(original_dataset_dir,fname)\n",
    "        dest = os.path.join(val,fname)\n",
    "        shutil.copy(src,dest)\n",
    "    for fname in ['{}.{}.jpg'.format(cls,i)  for i in range(1500,2000)]:\n",
    "        src = os.path.join(original_dataset_dir,fname)\n",
    "        dest = os.path.join(test,fname)\n",
    "        shutil.copy(src,dest)"
   ]
  },
  {
   "cell_type": "code",
   "execution_count": 12,
   "metadata": {},
   "outputs": [
    {
     "name": "stdout",
     "output_type": "stream",
     "text": [
      "dog : in train dir = 1000\n",
      "dog : in validation dir = 500\n",
      "dog : in test dir = 500\n",
      "cat : in train dir = 1000\n",
      "cat : in validation dir = 500\n",
      "cat : in test dir = 500\n"
     ]
    }
   ],
   "source": [
    "for cls in ['dog','cat']:\n",
    "    for directory in [train_dir,val_dir,test_dir]:\n",
    "        d = os.path.join(directory,cls)\n",
    "        print('{} : in {} dir = {}'.format(cls, directory.split('\\\\')[-1],len(os.listdir(d))))"
   ]
  },
  {
   "cell_type": "code",
   "execution_count": null,
   "metadata": {},
   "outputs": [],
   "source": []
  }
 ],
 "metadata": {
  "kernelspec": {
   "display_name": "Python [default]",
   "language": "python",
   "name": "python3"
  },
  "language_info": {
   "codemirror_mode": {
    "name": "ipython",
    "version": 3
   },
   "file_extension": ".py",
   "mimetype": "text/x-python",
   "name": "python",
   "nbconvert_exporter": "python",
   "pygments_lexer": "ipython3",
   "version": "3.6.5"
  }
 },
 "nbformat": 4,
 "nbformat_minor": 2
}
