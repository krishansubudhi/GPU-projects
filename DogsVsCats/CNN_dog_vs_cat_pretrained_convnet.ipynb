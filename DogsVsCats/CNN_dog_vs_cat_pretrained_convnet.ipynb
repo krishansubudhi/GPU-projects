{
 "cells": [
  {
   "cell_type": "code",
   "execution_count": 4,
   "metadata": {},
   "outputs": [],
   "source": [
    "import os,shutil\n",
    "base_dir = 'C:\\\\Users\\\\krishan\\\\GPU-projects\\\\DogsVsCats'"
   ]
  },
  {
   "cell_type": "code",
   "execution_count": 5,
   "metadata": {},
   "outputs": [],
   "source": [
    "train_dir = os.path.join(base_dir, 'train')\n",
    "val_dir = os.path.join(base_dir, 'validation')\n",
    "test_dir = os.path.join(base_dir, 'test')"
   ]
  },
  {
   "cell_type": "code",
   "execution_count": null,
   "metadata": {},
   "outputs": [],
   "source": [
    "   "
   ]
  },
  {
   "cell_type": "code",
   "execution_count": 6,
   "metadata": {},
   "outputs": [
    {
     "name": "stdout",
     "output_type": "stream",
     "text": [
      "_________________________________________________________________\n",
      "Layer (type)                 Output Shape              Param #   \n",
      "=================================================================\n",
      "input_1 (InputLayer)         (None, 150, 150, 3)       0         \n",
      "_________________________________________________________________\n",
      "block1_conv1 (Conv2D)        (None, 150, 150, 64)      1792      \n",
      "_________________________________________________________________\n",
      "block1_conv2 (Conv2D)        (None, 150, 150, 64)      36928     \n",
      "_________________________________________________________________\n",
      "block1_pool (MaxPooling2D)   (None, 75, 75, 64)        0         \n",
      "_________________________________________________________________\n",
      "block2_conv1 (Conv2D)        (None, 75, 75, 128)       73856     \n",
      "_________________________________________________________________\n",
      "block2_conv2 (Conv2D)        (None, 75, 75, 128)       147584    \n",
      "_________________________________________________________________\n",
      "block2_pool (MaxPooling2D)   (None, 37, 37, 128)       0         \n",
      "_________________________________________________________________\n",
      "block3_conv1 (Conv2D)        (None, 37, 37, 256)       295168    \n",
      "_________________________________________________________________\n",
      "block3_conv2 (Conv2D)        (None, 37, 37, 256)       590080    \n",
      "_________________________________________________________________\n",
      "block3_conv3 (Conv2D)        (None, 37, 37, 256)       590080    \n",
      "_________________________________________________________________\n",
      "block3_pool (MaxPooling2D)   (None, 18, 18, 256)       0         \n",
      "_________________________________________________________________\n",
      "block4_conv1 (Conv2D)        (None, 18, 18, 512)       1180160   \n",
      "_________________________________________________________________\n",
      "block4_conv2 (Conv2D)        (None, 18, 18, 512)       2359808   \n",
      "_________________________________________________________________\n",
      "block4_conv3 (Conv2D)        (None, 18, 18, 512)       2359808   \n",
      "_________________________________________________________________\n",
      "block4_pool (MaxPooling2D)   (None, 9, 9, 512)         0         \n",
      "_________________________________________________________________\n",
      "block5_conv1 (Conv2D)        (None, 9, 9, 512)         2359808   \n",
      "_________________________________________________________________\n",
      "block5_conv2 (Conv2D)        (None, 9, 9, 512)         2359808   \n",
      "_________________________________________________________________\n",
      "block5_conv3 (Conv2D)        (None, 9, 9, 512)         2359808   \n",
      "_________________________________________________________________\n",
      "block5_pool (MaxPooling2D)   (None, 4, 4, 512)         0         \n",
      "=================================================================\n",
      "Total params: 14,714,688\n",
      "Trainable params: 14,714,688\n",
      "Non-trainable params: 0\n",
      "_________________________________________________________________\n"
     ]
    }
   ],
   "source": [
    "from keras.applications import VGG16\n",
    "conv_base = VGG16(include_top=False,#Dense layer of VGG16 shall be discarded,\n",
    "                 weights = 'imagenet',\n",
    "                 input_shape=(150,150,3))\n",
    "conv_base.summary()"
   ]
  },
  {
   "cell_type": "code",
   "execution_count": 9,
   "metadata": {},
   "outputs": [],
   "source": [
    "batch_size =20\n",
    "from keras.preprocessing import image\n",
    "from keras.preprocessing.image import ImageDataGenerator\n",
    "import numpy as np\n",
    "\n",
    "datagen = ImageDataGenerator(rescale=1./255)\n",
    "\n",
    "def extract_features(directory, samplesize):\n",
    "    features = np.zeros(shape=(samplesize,4,4,512))\n",
    "    labels = np.zeros((samplesize))\n",
    "    print(directory)\n",
    "    generator = datagen.flow_from_directory(directory,\n",
    "                                            target_size=(150,150),\n",
    "                                            class_mode='binary',\n",
    "                                            batch_size = batch_size)\n",
    "\n",
    "    i=0\n",
    "    for image_batch,label_batch in generator:\n",
    "        features_batch = conv_base.predict(image_batch)\n",
    "        features[i*batch_size:(i+1)*batch_size] = features_batch\n",
    "        labels[i*batch_size:(i+1)*batch_size] = label_batch\n",
    "        i+=1\n",
    "        if i*batch_size>=samplesize :\n",
    "            break\n",
    "    return features,labels\n",
    "        \n",
    "    "
   ]
  },
  {
   "cell_type": "code",
   "execution_count": 21,
   "metadata": {},
   "outputs": [
    {
     "name": "stdout",
     "output_type": "stream",
     "text": [
      "C:\\Users\\krishan\\GPU-projects\\DogsVsCats\\train\n",
      "Found 2000 images belonging to 2 classes.\n",
      "C:\\Users\\krishan\\GPU-projects\\DogsVsCats\\validation\n",
      "Found 1000 images belonging to 2 classes.\n",
      "C:\\Users\\krishan\\GPU-projects\\DogsVsCats\\test\n",
      "Found 1000 images belonging to 2 classes.\n"
     ]
    }
   ],
   "source": [
    "train_features,train_labels = extract_features(train_dir,2000)\n",
    "validation_features,validation_labels = extract_features(val_dir,1000)\n",
    "test_features,test_labels = extract_features(test_dir,1000)\n",
    "\n"
   ]
  },
  {
   "cell_type": "code",
   "execution_count": 25,
   "metadata": {},
   "outputs": [
    {
     "data": {
      "text/plain": [
       "(2000, 8192)"
      ]
     },
     "execution_count": 25,
     "metadata": {},
     "output_type": "execute_result"
    }
   ],
   "source": [
    "train_features = train_features.reshape((len(train_features),4*4*512))\n",
    "validation_features = validation_features.reshape((len(validation_features),4*4*512))\n",
    "test_features = test_features.reshape((len(test_features),4*4*512))\n",
    "\n",
    "train_features.shape"
   ]
  },
  {
   "cell_type": "code",
   "execution_count": 26,
   "metadata": {},
   "outputs": [],
   "source": [
    "from keras import layers\n",
    "from keras import Sequential\n",
    "\n",
    "model = Sequential()\n",
    "model.add(layers.Dense(512,activation='relu', input_shape=(4*4*512,)))\n",
    "model.add(layers.Dense(1,activation='sigmoid'))"
   ]
  },
  {
   "cell_type": "code",
   "execution_count": 27,
   "metadata": {},
   "outputs": [],
   "source": [
    "from keras import losses\n",
    "from keras import optimizers\n",
    "model.compile(optimizer=optimizers.adam(lr=1e-4),\n",
    "             loss='binary_crossentropy',\n",
    "             metrics = ['acc'])"
   ]
  },
  {
   "cell_type": "code",
   "execution_count": null,
   "metadata": {
    "scrolled": true
   },
   "outputs": [
    {
     "name": "stdout",
     "output_type": "stream",
     "text": [
      "Train on 2000 samples, validate on 1000 samples\n",
      "Epoch 1/100\n",
      "2000/2000 [==============================] - 2s 783us/step - loss: 0.3962 - acc: 0.8145 - val_loss: 0.2684 - val_acc: 0.8890\n",
      "Epoch 2/100\n",
      "2000/2000 [==============================] - 1s 345us/step - loss: 0.2143 - acc: 0.9180 - val_loss: 0.2395 - val_acc: 0.8990\n",
      "Epoch 3/100\n",
      "2000/2000 [==============================] - 1s 333us/step - loss: 0.1583 - acc: 0.9410 - val_loss: 0.2373 - val_acc: 0.9010\n",
      "Epoch 4/100\n",
      "2000/2000 [==============================] - 1s 326us/step - loss: 0.1200 - acc: 0.9615 - val_loss: 0.2661 - val_acc: 0.8850\n",
      "Epoch 5/100\n",
      "2000/2000 [==============================] - 1s 334us/step - loss: 0.0952 - acc: 0.9745 - val_loss: 0.2442 - val_acc: 0.9020\n",
      "Epoch 6/100\n",
      "2000/2000 [==============================] - 1s 331us/step - loss: 0.0872 - acc: 0.9735 - val_loss: 0.2911 - val_acc: 0.8810\n",
      "Epoch 7/100\n",
      "2000/2000 [==============================] - 1s 333us/step - loss: 0.0655 - acc: 0.9845 - val_loss: 0.2422 - val_acc: 0.8980\n",
      "Epoch 8/100\n",
      "2000/2000 [==============================] - 1s 328us/step - loss: 0.0450 - acc: 0.9960 - val_loss: 0.2479 - val_acc: 0.9030\n",
      "Epoch 9/100\n",
      "2000/2000 [==============================] - 1s 333us/step - loss: 0.0366 - acc: 0.9980 - val_loss: 0.2582 - val_acc: 0.9050\n",
      "Epoch 10/100\n",
      "2000/2000 [==============================] - 1s 326us/step - loss: 0.0290 - acc: 0.9995 - val_loss: 0.2585 - val_acc: 0.9000\n",
      "Epoch 11/100\n",
      "2000/2000 [==============================] - 1s 326us/step - loss: 0.0252 - acc: 1.0000 - val_loss: 0.2611 - val_acc: 0.9020\n",
      "Epoch 12/100\n",
      "2000/2000 [==============================] - 1s 323us/step - loss: 0.0203 - acc: 1.0000 - val_loss: 0.2753 - val_acc: 0.9000\n",
      "Epoch 13/100\n",
      "2000/2000 [==============================] - 1s 327us/step - loss: 0.0180 - acc: 1.0000 - val_loss: 0.2721 - val_acc: 0.9020\n",
      "Epoch 14/100\n",
      "2000/2000 [==============================] - 1s 329us/step - loss: 0.0144 - acc: 1.0000 - val_loss: 0.2805 - val_acc: 0.9000\n",
      "Epoch 15/100\n",
      "2000/2000 [==============================] - 1s 327us/step - loss: 0.0127 - acc: 1.0000 - val_loss: 0.2783 - val_acc: 0.9010\n",
      "Epoch 16/100\n",
      "2000/2000 [==============================] - 1s 327us/step - loss: 0.0111 - acc: 1.0000 - val_loss: 0.2869 - val_acc: 0.9040\n",
      "Epoch 17/100\n",
      "2000/2000 [==============================] - 1s 327us/step - loss: 0.0090 - acc: 1.0000 - val_loss: 0.2874 - val_acc: 0.9030\n",
      "Epoch 18/100\n",
      "2000/2000 [==============================] - 1s 326us/step - loss: 0.0081 - acc: 1.0000 - val_loss: 0.3024 - val_acc: 0.9020\n",
      "Epoch 19/100\n",
      "2000/2000 [==============================] - 1s 330us/step - loss: 0.0070 - acc: 1.0000 - val_loss: 0.2960 - val_acc: 0.9040\n",
      "Epoch 20/100\n",
      "2000/2000 [==============================] - 1s 331us/step - loss: 0.0062 - acc: 1.0000 - val_loss: 0.3016 - val_acc: 0.9040\n",
      "Epoch 21/100\n",
      "2000/2000 [==============================] - 1s 335us/step - loss: 0.0053 - acc: 1.0000 - val_loss: 0.3076 - val_acc: 0.9050\n",
      "Epoch 22/100\n",
      "2000/2000 [==============================] - 1s 329us/step - loss: 0.0047 - acc: 1.0000 - val_loss: 0.3081 - val_acc: 0.9030\n",
      "Epoch 23/100\n",
      "2000/2000 [==============================] - 1s 327us/step - loss: 0.0042 - acc: 1.0000 - val_loss: 0.3161 - val_acc: 0.9040\n",
      "Epoch 24/100\n",
      "2000/2000 [==============================] - 1s 335us/step - loss: 0.0037 - acc: 1.0000 - val_loss: 0.3275 - val_acc: 0.9010\n",
      "Epoch 25/100\n",
      "2000/2000 [==============================] - 1s 335us/step - loss: 0.0034 - acc: 1.0000 - val_loss: 0.3286 - val_acc: 0.9010\n",
      "Epoch 26/100\n",
      "2000/2000 [==============================] - 1s 326us/step - loss: 0.0031 - acc: 1.0000 - val_loss: 0.3308 - val_acc: 0.9030\n",
      "Epoch 27/100\n",
      "2000/2000 [==============================] - 1s 326us/step - loss: 0.0028 - acc: 1.0000 - val_loss: 0.3353 - val_acc: 0.9020\n",
      "Epoch 28/100\n",
      "2000/2000 [==============================] - 1s 331us/step - loss: 0.0025 - acc: 1.0000 - val_loss: 0.3305 - val_acc: 0.9040\n",
      "Epoch 29/100\n",
      "2000/2000 [==============================] - 1s 324us/step - loss: 0.0023 - acc: 1.0000 - val_loss: 0.3386 - val_acc: 0.9070\n",
      "Epoch 30/100\n",
      "2000/2000 [==============================] - 1s 331us/step - loss: 0.0021 - acc: 1.0000 - val_loss: 0.3385 - val_acc: 0.9050\n",
      "Epoch 31/100\n",
      "2000/2000 [==============================] - 1s 330us/step - loss: 0.0019 - acc: 1.0000 - val_loss: 0.3507 - val_acc: 0.9050\n",
      "Epoch 32/100\n",
      "2000/2000 [==============================] - 1s 327us/step - loss: 0.0017 - acc: 1.0000 - val_loss: 0.3474 - val_acc: 0.9060\n",
      "Epoch 33/100\n",
      "2000/2000 [==============================] - 1s 336us/step - loss: 0.0016 - acc: 1.0000 - val_loss: 0.3563 - val_acc: 0.9050\n",
      "Epoch 34/100\n",
      "2000/2000 [==============================] - 1s 331us/step - loss: 0.0015 - acc: 1.0000 - val_loss: 0.3646 - val_acc: 0.8980\n",
      "Epoch 35/100\n",
      "2000/2000 [==============================] - 1s 325us/step - loss: 0.0013 - acc: 1.0000 - val_loss: 0.3587 - val_acc: 0.9050\n",
      "Epoch 36/100\n",
      "2000/2000 [==============================] - 1s 326us/step - loss: 0.0013 - acc: 1.0000 - val_loss: 0.3669 - val_acc: 0.9000\n",
      "Epoch 37/100\n",
      "2000/2000 [==============================] - 1s 326us/step - loss: 0.0011 - acc: 1.0000 - val_loss: 0.3651 - val_acc: 0.9070\n",
      "Epoch 38/100\n",
      "2000/2000 [==============================] - 1s 328us/step - loss: 0.0011 - acc: 1.0000 - val_loss: 0.3698 - val_acc: 0.9070\n",
      "Epoch 39/100\n",
      "2000/2000 [==============================] - 1s 326us/step - loss: 9.8589e-04 - acc: 1.0000 - val_loss: 0.3758 - val_acc: 0.9050\n",
      "Epoch 40/100\n",
      "2000/2000 [==============================] - 1s 328us/step - loss: 9.1494e-04 - acc: 1.0000 - val_loss: 0.3810 - val_acc: 0.9010\n",
      "Epoch 41/100\n",
      "2000/2000 [==============================] - 1s 330us/step - loss: 8.4973e-04 - acc: 1.0000 - val_loss: 0.3833 - val_acc: 0.9010\n",
      "Epoch 42/100\n",
      "2000/2000 [==============================] - 1s 325us/step - loss: 8.0027e-04 - acc: 1.0000 - val_loss: 0.3882 - val_acc: 0.9010\n",
      "Epoch 43/100\n",
      "2000/2000 [==============================] - 1s 339us/step - loss: 7.3524e-04 - acc: 1.0000 - val_loss: 0.3887 - val_acc: 0.9010\n",
      "Epoch 44/100\n",
      "2000/2000 [==============================] - 1s 330us/step - loss: 6.8952e-04 - acc: 1.0000 - val_loss: 0.3842 - val_acc: 0.9040\n",
      "Epoch 45/100\n",
      "2000/2000 [==============================] - 1s 327us/step - loss: 6.5028e-04 - acc: 1.0000 - val_loss: 0.3915 - val_acc: 0.9010\n",
      "Epoch 46/100\n",
      "2000/2000 [==============================] - 1s 326us/step - loss: 6.0311e-04 - acc: 1.0000 - val_loss: 0.3901 - val_acc: 0.9070\n",
      "Epoch 47/100\n",
      "2000/2000 [==============================] - 1s 333us/step - loss: 5.6175e-04 - acc: 1.0000 - val_loss: 0.3941 - val_acc: 0.9040\n",
      "Epoch 48/100\n",
      "2000/2000 [==============================] - 1s 330us/step - loss: 5.2458e-04 - acc: 1.0000 - val_loss: 0.3922 - val_acc: 0.9030\n",
      "Epoch 49/100\n",
      "2000/2000 [==============================] - 1s 334us/step - loss: 5.0082e-04 - acc: 1.0000 - val_loss: 0.4011 - val_acc: 0.9010\n",
      "Epoch 50/100\n",
      "2000/2000 [==============================] - 1s 335us/step - loss: 4.6579e-04 - acc: 1.0000 - val_loss: 0.4014 - val_acc: 0.9030\n",
      "Epoch 51/100\n",
      "2000/2000 [==============================] - 1s 333us/step - loss: 4.3931e-04 - acc: 1.0000 - val_loss: 0.4052 - val_acc: 0.9020\n",
      "Epoch 52/100\n",
      "2000/2000 [==============================] - 1s 333us/step - loss: 4.1489e-04 - acc: 1.0000 - val_loss: 0.4094 - val_acc: 0.9030\n",
      "Epoch 53/100\n",
      "1568/2000 [======================>.......] - ETA: 0s - loss: 3.6352e-04 - acc: 1.0000"
     ]
    }
   ],
   "source": [
    "history = model.fit(train_features,train_labels,\n",
    "                   epochs = 100,\n",
    "                   validation_data=(validation_features,validation_labels),\n",
    "                   batch_size = 32,\n",
    "                   )"
   ]
  },
  {
   "cell_type": "code",
   "execution_count": null,
   "metadata": {},
   "outputs": [],
   "source": [
    "import matplotlib.pyplot as pp\n",
    "def plothistory(history):\n",
    "    pp.figure(figsize=(10,4))\n",
    "    pp.subplot(1,2,1)\n",
    "    pp.plot(history['loss'])\n",
    "    pp.plot(history['val_loss'],'r')\n",
    "    pp.legend(['loss','val_loss'])\n",
    "    pp.title('loss')\n",
    "    pp.subplot(1,2,2)\n",
    "    pp.plot(history['acc'])\n",
    "    pp.plot(history['val_acc'],'r')\n",
    "    pp.legend(['acc','val_acc'])\n",
    "    pp.title('accuracy')\n",
    "    pp.show()\n",
    "plothistory(history.history)"
   ]
  },
  {
   "cell_type": "code",
   "execution_count": null,
   "metadata": {},
   "outputs": [],
   "source": [
    "model.save('cat_anddog_small_2.h5')"
   ]
  },
  {
   "cell_type": "code",
   "execution_count": null,
   "metadata": {},
   "outputs": [],
   "source": []
  },
  {
   "cell_type": "code",
   "execution_count": null,
   "metadata": {},
   "outputs": [],
   "source": []
  }
 ],
 "metadata": {
  "kernelspec": {
   "display_name": "Python [default]",
   "language": "python",
   "name": "python3"
  },
  "language_info": {
   "codemirror_mode": {
    "name": "ipython",
    "version": 3
   },
   "file_extension": ".py",
   "mimetype": "text/x-python",
   "name": "python",
   "nbconvert_exporter": "python",
   "pygments_lexer": "ipython3",
   "version": "3.6.5"
  }
 },
 "nbformat": 4,
 "nbformat_minor": 2
}
