{
 "cells": [
  {
   "cell_type": "code",
   "execution_count": 18,
   "metadata": {},
   "outputs": [],
   "source": [
    "import os,shutil\n",
    "original_dataset_dir='C:\\\\Users\\\\krkusuk\\\\study\\\\Deeplearning-keras\\\\CNN\\\\DogsVsCats\\\\all\\\\train\\\\train'\n",
    "base_dir = 'C:\\\\Users\\\\krkusuk\\\\study\\\\Deeplearning-keras\\\\CNN\\\\DogsVsCats'"
   ]
  },
  {
   "cell_type": "code",
   "execution_count": 27,
   "metadata": {},
   "outputs": [],
   "source": [
    "train_dir = os.path.join(base_dir, 'train')\n",
    "val_dir = os.path.join(base_dir, 'validation')\n",
    "test_dir = os.path.join(base_dir, 'test')\n",
    "os.mkdir(train_dir)\n",
    "os.mkdir(val_dir)\n",
    "os.mkdir(test_dir)"
   ]
  },
  {
   "cell_type": "code",
   "execution_count": 42,
   "metadata": {},
   "outputs": [],
   "source": [
    "train = ''\n",
    "val = ''\n",
    "test = ''"
   ]
  },
  {
   "cell_type": "code",
   "execution_count": 43,
   "metadata": {},
   "outputs": [],
   "source": [
    "for cls in ['dog','cat']:\n",
    "    train = os.path.join(train_dir,cls)\n",
    "    os.makedirs(train,exist_ok=True)\n",
    "    val = os.path.join(val_dir,cls)\n",
    "    os.makedirs(val,exist_ok=True)\n",
    "    test = os.path.join(test_dir,cls)\n",
    "    os.makedirs(test,exist_ok=True)\n",
    "    for fname in ['{}.{}.jpg'.format(cls,i)  for i in range(1000)]:\n",
    "        src = os.path.join(original_dataset_dir,fname)\n",
    "        dest = os.path.join(train,fname)\n",
    "        shutil.copy(src,dest)\n",
    "    for fname in ['{}.{}.jpg'.format(cls,i)  for i in range(1000,1500)]:\n",
    "        src = os.path.join(original_dataset_dir,fname)\n",
    "        dest = os.path.join(val,fname)\n",
    "        shutil.copy(src,dest)\n",
    "    for fname in ['{}.{}.jpg'.format(cls,i)  for i in range(1500,2000)]:\n",
    "        src = os.path.join(original_dataset_dir,fname)\n",
    "        dest = os.path.join(test,fname)\n",
    "        shutil.copy(src,dest)"
   ]
  },
  {
   "cell_type": "code",
   "execution_count": 46,
   "metadata": {},
   "outputs": [
    {
     "name": "stdout",
     "output_type": "stream",
     "text": [
      "dog : in train dir = 1000\n",
      "dog : in validation dir = 500\n",
      "dog : in test dir = 500\n",
      "cat : in train dir = 1000\n",
      "cat : in validation dir = 500\n",
      "cat : in test dir = 500\n"
     ]
    }
   ],
   "source": [
    "for cls in ['dog','cat']:\n",
    "    for directory in [train_dir,val_dir,test_dir]:\n",
    "        d = os.path.join(directory,cls)\n",
    "        print('{} : in {} dir = {}'.format(cls, directory.split('\\\\')[-1],len(os.listdir(d))))"
   ]
  },
  {
   "cell_type": "code",
   "execution_count": 49,
   "metadata": {},
   "outputs": [
    {
     "name": "stdout",
     "output_type": "stream",
     "text": [
      "_________________________________________________________________\n",
      "Layer (type)                 Output Shape              Param #   \n",
      "=================================================================\n",
      "conv2d_1 (Conv2D)            (None, 148, 148, 32)      896       \n",
      "_________________________________________________________________\n",
      "max_pooling2d_1 (MaxPooling2 (None, 74, 74, 32)        0         \n",
      "_________________________________________________________________\n",
      "conv2d_2 (Conv2D)            (None, 72, 72, 64)        18496     \n",
      "_________________________________________________________________\n",
      "max_pooling2d_2 (MaxPooling2 (None, 36, 36, 64)        0         \n",
      "_________________________________________________________________\n",
      "conv2d_3 (Conv2D)            (None, 34, 34, 128)       73856     \n",
      "_________________________________________________________________\n",
      "max_pooling2d_3 (MaxPooling2 (None, 17, 17, 128)       0         \n",
      "_________________________________________________________________\n",
      "conv2d_4 (Conv2D)            (None, 15, 15, 128)       147584    \n",
      "_________________________________________________________________\n",
      "max_pooling2d_4 (MaxPooling2 (None, 7, 7, 128)         0         \n",
      "_________________________________________________________________\n",
      "flatten_1 (Flatten)          (None, 6272)              0         \n",
      "_________________________________________________________________\n",
      "dense_1 (Dense)              (None, 512)               3211776   \n",
      "_________________________________________________________________\n",
      "dense_2 (Dense)              (None, 1)                 513       \n",
      "=================================================================\n",
      "Total params: 3,453,121\n",
      "Trainable params: 3,453,121\n",
      "Non-trainable params: 0\n",
      "_________________________________________________________________\n"
     ]
    }
   ],
   "source": [
    "from keras import layers\n",
    "from keras import models\n",
    "model = models.Sequential()\n",
    "model.add(layers.Conv2D(32,(3,3),activation='relu',input_shape=(150,150,3)))\n",
    "model.add(layers.MaxPool2D((2,2)))\n",
    "model.add(layers.Conv2D(64,(3,3),activation='relu'))\n",
    "model.add(layers.MaxPool2D((2,2)))\n",
    "model.add(layers.Conv2D(128,(3,3),activation='relu'))\n",
    "model.add(layers.MaxPool2D((2,2)))\n",
    "model.add(layers.Conv2D(128,(3,3),activation='relu'))\n",
    "model.add(layers.MaxPool2D((2,2)))\n",
    "model.add(layers.Flatten())\n",
    "model.add(layers.Dense(512,activation='relu'))\n",
    "model.add(layers.Dense(1,activation='sigmoid'))\n",
    "\n",
    "model.summary()"
   ]
  },
  {
   "cell_type": "code",
   "execution_count": null,
   "metadata": {},
   "outputs": [],
   "source": []
  }
 ],
 "metadata": {
  "kernelspec": {
   "display_name": "Python 3",
   "language": "python",
   "name": "python3"
  },
  "language_info": {
   "codemirror_mode": {
    "name": "ipython",
    "version": 3
   },
   "file_extension": ".py",
   "mimetype": "text/x-python",
   "name": "python",
   "nbconvert_exporter": "python",
   "pygments_lexer": "ipython3",
   "version": "3.6.6"
  }
 },
 "nbformat": 4,
 "nbformat_minor": 2
}
