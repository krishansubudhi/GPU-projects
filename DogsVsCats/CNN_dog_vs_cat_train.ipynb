{
 "cells": [
  {
   "cell_type": "code",
   "execution_count": 1,
   "metadata": {},
   "outputs": [],
   "source": [
    "import os,shutil\n",
    "base_dir = 'C:\\\\Users\\\\krishan\\\\GPU-projects\\\\DogsVsCats'"
   ]
  },
  {
   "cell_type": "code",
   "execution_count": 2,
   "metadata": {},
   "outputs": [],
   "source": [
    "train_dir = os.path.join(base_dir, 'train')\n",
    "val_dir = os.path.join(base_dir, 'validation')\n",
    "test_dir = os.path.join(base_dir, 'test')"
   ]
  },
  {
   "cell_type": "code",
   "execution_count": 3,
   "metadata": {},
   "outputs": [
    {
     "name": "stderr",
     "output_type": "stream",
     "text": [
      "C:\\Anaconda\\lib\\site-packages\\h5py\\__init__.py:36: FutureWarning: Conversion of the second argument of issubdtype from `float` to `np.floating` is deprecated. In future, it will be treated as `np.float64 == np.dtype(float).type`.\n",
      "  from ._conv import register_converters as _register_converters\n",
      "Using TensorFlow backend.\n"
     ]
    },
    {
     "name": "stdout",
     "output_type": "stream",
     "text": [
      "_________________________________________________________________\n",
      "Layer (type)                 Output Shape              Param #   \n",
      "=================================================================\n",
      "conv2d_1 (Conv2D)            (None, 148, 148, 32)      896       \n",
      "_________________________________________________________________\n",
      "max_pooling2d_1 (MaxPooling2 (None, 74, 74, 32)        0         \n",
      "_________________________________________________________________\n",
      "conv2d_2 (Conv2D)            (None, 72, 72, 64)        18496     \n",
      "_________________________________________________________________\n",
      "max_pooling2d_2 (MaxPooling2 (None, 36, 36, 64)        0         \n",
      "_________________________________________________________________\n",
      "conv2d_3 (Conv2D)            (None, 34, 34, 128)       73856     \n",
      "_________________________________________________________________\n",
      "max_pooling2d_3 (MaxPooling2 (None, 17, 17, 128)       0         \n",
      "_________________________________________________________________\n",
      "conv2d_4 (Conv2D)            (None, 15, 15, 128)       147584    \n",
      "_________________________________________________________________\n",
      "max_pooling2d_4 (MaxPooling2 (None, 7, 7, 128)         0         \n",
      "_________________________________________________________________\n",
      "flatten_1 (Flatten)          (None, 6272)              0         \n",
      "_________________________________________________________________\n",
      "dense_1 (Dense)              (None, 512)               3211776   \n",
      "_________________________________________________________________\n",
      "dense_2 (Dense)              (None, 1)                 513       \n",
      "=================================================================\n",
      "Total params: 3,453,121\n",
      "Trainable params: 3,453,121\n",
      "Non-trainable params: 0\n",
      "_________________________________________________________________\n"
     ]
    }
   ],
   "source": [
    "from keras import layers\n",
    "from keras import models\n",
    "model = models.Sequential()\n",
    "model.add(layers.Conv2D(32,(3,3),activation='relu',input_shape=(150,150,3)))\n",
    "model.add(layers.MaxPool2D((2,2)))\n",
    "model.add(layers.Conv2D(64,(3,3),activation='relu'))\n",
    "model.add(layers.MaxPool2D((2,2)))\n",
    "model.add(layers.Conv2D(128,(3,3),activation='relu'))\n",
    "model.add(layers.MaxPool2D((2,2)))\n",
    "model.add(layers.Conv2D(128,(3,3),activation='relu'))\n",
    "model.add(layers.MaxPool2D((2,2)))\n",
    "model.add(layers.Flatten())\n",
    "model.add(layers.Dense(512,activation='relu'))\n",
    "model.add(layers.Dense(1,activation='sigmoid'))\n",
    "\n",
    "model.summary()"
   ]
  },
  {
   "cell_type": "code",
   "execution_count": 4,
   "metadata": {},
   "outputs": [],
   "source": [
    "#compile model\n",
    "from keras import optimizers\n",
    "from keras import losses\n",
    "from keras import metrics\n",
    "model.compile(optimizer=optimizers.rmsprop(lr=1e-4), \n",
    "              loss='binary_crossentropy',\n",
    "             metrics = ['acc'])"
   ]
  },
  {
   "cell_type": "code",
   "execution_count": 5,
   "metadata": {},
   "outputs": [
    {
     "data": {
      "text/plain": [
       "keras_preprocessing.image.ImageDataGenerator"
      ]
     },
     "execution_count": 5,
     "metadata": {},
     "output_type": "execute_result"
    }
   ],
   "source": [
    "#import image data as tensor\n",
    "from keras.preprocessing.image import ImageDataGenerator\n",
    "train_datagen = ImageDataGenerator(rescale=1/255)\n",
    "test_datagen = ImageDataGenerator(rescale=1/255)\n",
    "\n",
    "type(train_datagen)"
   ]
  },
  {
   "cell_type": "code",
   "execution_count": 6,
   "metadata": {},
   "outputs": [
    {
     "name": "stdout",
     "output_type": "stream",
     "text": [
      "Found 2000 images belonging to 2 classes.\n",
      "Found 1000 images belonging to 2 classes.\n"
     ]
    },
    {
     "data": {
      "text/plain": [
       "keras_preprocessing.image.DirectoryIterator"
      ]
     },
     "execution_count": 6,
     "metadata": {},
     "output_type": "execute_result"
    }
   ],
   "source": [
    "train_generator = train_datagen.flow_from_directory(train_dir,\n",
    "                                                    target_size=(150,150),\n",
    "                                                    batch_size=20,\n",
    "                                                   class_mode='binary')\n",
    "validation_generator = test_datagen.flow_from_directory(val_dir,\n",
    "                                                    target_size=(150,150),\n",
    "                                                    batch_size=20,\n",
    "                                                   class_mode='binary')\n",
    "type(train_generator)"
   ]
  },
  {
   "cell_type": "code",
   "execution_count": 7,
   "metadata": {},
   "outputs": [],
   "source": [
    "#for data_batch,label_batch in train_generator:\n",
    "#    print(data_batch.shape)\n",
    "#    print(label_batch.shape)\n",
    "#    break"
   ]
  },
  {
   "cell_type": "code",
   "execution_count": 7,
   "metadata": {},
   "outputs": [
    {
     "name": "stdout",
     "output_type": "stream",
     "text": [
      "Epoch 1/30\n",
      "100/100 [==============================] - 15s 152ms/step - loss: 0.6878 - acc: 0.5335 - val_loss: 0.6703 - val_acc: 0.6140\n",
      "Epoch 2/30\n",
      "100/100 [==============================] - 7s 70ms/step - loss: 0.6476 - acc: 0.6285 - val_loss: 0.6631 - val_acc: 0.5910\n",
      "Epoch 3/30\n",
      "100/100 [==============================] - 7s 71ms/step - loss: 0.5988 - acc: 0.6800 - val_loss: 0.6643 - val_acc: 0.6180\n",
      "Epoch 4/30\n",
      "100/100 [==============================] - 7s 70ms/step - loss: 0.5634 - acc: 0.7195 - val_loss: 0.6086 - val_acc: 0.6520\n",
      "Epoch 5/30\n",
      "100/100 [==============================] - 7s 70ms/step - loss: 0.5240 - acc: 0.7275 - val_loss: 0.5840 - val_acc: 0.6780\n",
      "Epoch 6/30\n",
      "100/100 [==============================] - 7s 71ms/step - loss: 0.4971 - acc: 0.7480 - val_loss: 0.5553 - val_acc: 0.7140\n",
      "Epoch 7/30\n",
      "100/100 [==============================] - 7s 71ms/step - loss: 0.4597 - acc: 0.7870 - val_loss: 0.5700 - val_acc: 0.6990\n",
      "Epoch 8/30\n",
      "100/100 [==============================] - 7s 70ms/step - loss: 0.4367 - acc: 0.7980 - val_loss: 0.6115 - val_acc: 0.6920\n",
      "Epoch 9/30\n",
      "100/100 [==============================] - 7s 70ms/step - loss: 0.4094 - acc: 0.8185 - val_loss: 0.5861 - val_acc: 0.7130\n",
      "Epoch 10/30\n",
      "100/100 [==============================] - 7s 70ms/step - loss: 0.3935 - acc: 0.8225 - val_loss: 0.5536 - val_acc: 0.7210\n",
      "Epoch 11/30\n",
      "100/100 [==============================] - 7s 70ms/step - loss: 0.3662 - acc: 0.8380 - val_loss: 0.5889 - val_acc: 0.7130\n",
      "Epoch 12/30\n",
      "100/100 [==============================] - 7s 71ms/step - loss: 0.3409 - acc: 0.8560 - val_loss: 0.7046 - val_acc: 0.6820\n",
      "Epoch 13/30\n",
      "100/100 [==============================] - 7s 72ms/step - loss: 0.3199 - acc: 0.8655 - val_loss: 0.5839 - val_acc: 0.7160\n",
      "Epoch 14/30\n",
      "100/100 [==============================] - 7s 71ms/step - loss: 0.2903 - acc: 0.8765 - val_loss: 0.6585 - val_acc: 0.7070\n",
      "Epoch 15/30\n",
      "100/100 [==============================] - 7s 71ms/step - loss: 0.2791 - acc: 0.8855 - val_loss: 0.7322 - val_acc: 0.7060\n",
      "Epoch 16/30\n",
      "100/100 [==============================] - 7s 71ms/step - loss: 0.2495 - acc: 0.9040 - val_loss: 0.5972 - val_acc: 0.7310\n",
      "Epoch 17/30\n",
      "100/100 [==============================] - 7s 71ms/step - loss: 0.2349 - acc: 0.9040 - val_loss: 0.6374 - val_acc: 0.7260\n",
      "Epoch 18/30\n",
      "100/100 [==============================] - 7s 70ms/step - loss: 0.2104 - acc: 0.9260 - val_loss: 0.6959 - val_acc: 0.7160\n",
      "Epoch 19/30\n",
      "100/100 [==============================] - 7s 71ms/step - loss: 0.1949 - acc: 0.9265 - val_loss: 0.6776 - val_acc: 0.7350\n",
      "Epoch 20/30\n",
      "100/100 [==============================] - 7s 71ms/step - loss: 0.1704 - acc: 0.9435 - val_loss: 0.7239 - val_acc: 0.7260\n",
      "Epoch 21/30\n",
      "100/100 [==============================] - 7s 71ms/step - loss: 0.1463 - acc: 0.9530 - val_loss: 0.7052 - val_acc: 0.7270\n",
      "Epoch 22/30\n",
      "100/100 [==============================] - 7s 71ms/step - loss: 0.1384 - acc: 0.9540 - val_loss: 0.7270 - val_acc: 0.7310\n",
      "Epoch 23/30\n",
      "100/100 [==============================] - 7s 71ms/step - loss: 0.1126 - acc: 0.9645 - val_loss: 0.8330 - val_acc: 0.7230\n",
      "Epoch 24/30\n",
      "100/100 [==============================] - 7s 71ms/step - loss: 0.1076 - acc: 0.9685 - val_loss: 0.8302 - val_acc: 0.7150\n",
      "Epoch 25/30\n",
      "100/100 [==============================] - 7s 71ms/step - loss: 0.0870 - acc: 0.9715 - val_loss: 0.9024 - val_acc: 0.7160\n",
      "Epoch 26/30\n",
      "100/100 [==============================] - 7s 71ms/step - loss: 0.0743 - acc: 0.9780 - val_loss: 0.9071 - val_acc: 0.7080\n",
      "Epoch 27/30\n",
      "100/100 [==============================] - 7s 70ms/step - loss: 0.0711 - acc: 0.9815 - val_loss: 1.0764 - val_acc: 0.6970\n",
      "Epoch 28/30\n",
      "100/100 [==============================] - 7s 70ms/step - loss: 0.0574 - acc: 0.9820 - val_loss: 1.1736 - val_acc: 0.7130\n",
      "Epoch 29/30\n",
      "100/100 [==============================] - 7s 70ms/step - loss: 0.0453 - acc: 0.9890 - val_loss: 1.1798 - val_acc: 0.6910\n",
      "Epoch 30/30\n",
      "100/100 [==============================] - 7s 71ms/step - loss: 0.0494 - acc: 0.9850 - val_loss: 1.0109 - val_acc: 0.7210\n"
     ]
    }
   ],
   "source": [
    "history = model.fit_generator(train_generator,\n",
    "                              steps_per_epoch=100,\n",
    "                             epochs=30,\n",
    "                              validation_data = validation_generator,\n",
    "                             validation_steps =50)"
   ]
  },
  {
   "cell_type": "code",
   "execution_count": 11,
   "metadata": {},
   "outputs": [
    {
     "data": {
      "text/plain": [
       "dict_keys(['val_loss', 'val_acc', 'loss', 'acc'])"
      ]
     },
     "execution_count": 11,
     "metadata": {},
     "output_type": "execute_result"
    }
   ],
   "source": [
    "model.save('basic.h5')\n",
    "history.history.keys()"
   ]
  },
  {
   "cell_type": "code",
   "execution_count": 18,
   "metadata": {},
   "outputs": [
    {
     "data": {
      "image/png": "[encoded data removed]",
      "text/plain": [
       "<Figure size 720x288 with 2 Axes>"
      ]
     },
     "metadata": {},
     "output_type": "display_data"
    }
   ],
   "source": [
    "import matplotlib.pyplot as pp\n",
    "def plothistory(history):\n",
    "    pp.figure(figsize=(10,4))\n",
    "    pp.subplot(1,2,1)\n",
    "    pp.plot(history['loss'])\n",
    "    pp.plot(history['val_loss'],'r')\n",
    "    pp.legend(['loss','val_loss'])\n",
    "    pp.title('loss')\n",
    "    pp.subplot(1,2,2)\n",
    "    pp.plot(history['acc'])\n",
    "    pp.plot(history['val_acc'],'r')\n",
    "    pp.legend(['acc','val_acc'])\n",
    "    pp.title('accuracy')\n",
    "    pp.show()\n",
    "plothistory(history.history)"
   ]
  },
  {
   "cell_type": "code",
   "execution_count": null,
   "metadata": {},
   "outputs": [],
   "source": []
  },
  {
   "cell_type": "code",
   "execution_count": null,
   "metadata": {},
   "outputs": [],
   "source": []
  }
 ],
 "metadata": {
  "kernelspec": {
   "display_name": "Python [default]",
   "language": "python",
   "name": "python3"
  },
  "language_info": {
   "codemirror_mode": {
    "name": "ipython",
    "version": 3
   },
   "file_extension": ".py",
   "mimetype": "text/x-python",
   "name": "python",
   "nbconvert_exporter": "python",
   "pygments_lexer": "ipython3",
   "version": "3.6.5"
  }
 },
 "nbformat": 4,
 "nbformat_minor": 2
}
